{
 "cells": [
  {
   "cell_type": "raw",
   "id": "eb85934b-3e42-48c2-bb52-4ac80a4d2866",
   "metadata": {},
   "source": [
    "Description: GLCM computes the statistical relationships between neighboring pixels' intensity levels to capture texture patterns (e.g., smoothness, contrast, entropy, or texture regularity). Haralick features, derived from GLCM, provide descriptors like energy, correlation, and homogeneity.\n",
    "    Why suitable for dental X-rays: Cysts and caries often exhibit distinct textural contrasts with surrounding healthy areas (e.g., regions of decay versus intact dental enamel).\n",
    "    Steps:\n",
    "        Define a region of interest (ROI) in the image (e.g., a tooth or suspected area).\n",
    "        Compute the GLCM for different orientations and distances.\n",
    "        Extract statistical features like contrast and entropy from the GLCM.\n"
   ]
  },
  {
   "cell_type": "code",
   "execution_count": null,
   "id": "95c8a80a-beb2-4f67-87a0-6f75dad5998b",
   "metadata": {},
   "outputs": [],
   "source": []
  }
 ],
 "metadata": {
  "kernelspec": {
   "display_name": "Python 3 (ipykernel)",
   "language": "python",
   "name": "python3"
  },
  "language_info": {
   "codemirror_mode": {
    "name": "ipython",
    "version": 3
   },
   "file_extension": ".py",
   "mimetype": "text/x-python",
   "name": "python",
   "nbconvert_exporter": "python",
   "pygments_lexer": "ipython3",
   "version": "3.9.6"
  }
 },
 "nbformat": 4,
 "nbformat_minor": 5
}
