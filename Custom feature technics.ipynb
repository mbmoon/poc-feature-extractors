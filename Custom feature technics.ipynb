{
 "cells": [
  {
   "cell_type": "raw",
   "id": "63ace549-beb9-4440-a0cb-5249d7d8f005",
   "metadata": {},
   "source": [
    "Summary of Hand-Crafted Techniques\n",
    "\n",
    "    HOG (Histogram of Oriented Gradients) - Captures gradient directions (edge information).\n",
    "    BoW (Bag of Words) - Converts local image keypoints into a text-like representation.\n",
    "    GIST - Captures global spatial features for scene recognition. (applicable for GEO only)\n",
    "    LBP (Local Binary Patterns) - Encodes local texture using binary comparisons.\n",
    "    Haralick Features (GLCM) - Extracts statistical texture information.\n",
    "    Gabor Filters - Captures spatial frequency and orientation textures.\n"
   ]
  },
  {
   "cell_type": "markdown",
   "id": "adebcb12-fee7-46f0-bcb1-b6b26446b9d9",
   "metadata": {},
   "source": [
    "# Example Custom Feature Extraction Idea:\n",
    "\n",
    "    Hybrid Technique: Combine a custom orientation gradient (like HOG) with texture detection using modulated Gabor filters.\n",
    "        Detect local edges in regions (gradient histograms).\n",
    "        Pass the same regions through a bank of multi-scale Gabor filters.\n",
    "        Combine the resulting histograms/features using principal component analysis (PCA) for compact representation.\n",
    "\n"
   ]
  },
  {
   "cell_type": "code",
   "execution_count": null,
   "id": "3d7fcb8c-8459-45f1-a2fe-313eae91a570",
   "metadata": {},
   "outputs": [],
   "source": []
  }
 ],
 "metadata": {
  "kernelspec": {
   "display_name": "Python 3 (ipykernel)",
   "language": "python",
   "name": "python3"
  },
  "language_info": {
   "codemirror_mode": {
    "name": "ipython",
    "version": 3
   },
   "file_extension": ".py",
   "mimetype": "text/x-python",
   "name": "python",
   "nbconvert_exporter": "python",
   "pygments_lexer": "ipython3",
   "version": "3.9.6"
  }
 },
 "nbformat": 4,
 "nbformat_minor": 5
}
