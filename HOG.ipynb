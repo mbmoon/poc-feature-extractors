{
 "cells": [
  {
   "cell_type": "code",
   "execution_count": 1,
   "id": "81b20a80-c49e-4c8a-ad16-bf570fbee33a",
   "metadata": {},
   "outputs": [],
   "source": [
    "import cv2\n",
    "from cv2 import (imshow, waitKey, HOGDescriptor, SIFT_create, BOWKMeansTrainer,\n",
    "                 BOWImgDescriptorExtractor, BFMatcher, NORM_L2, cvtColor, COLOR_RGB2GRAY)\n",
    "#from digits_dataset import split_images, split_data\n",
    "#from cifar_dataset import load_images\n",
    "from numpy import uint8, array, reshape\n",
    "import numpy"
   ]
  },
  {
   "cell_type": "code",
   "execution_count": 3,
   "id": "f9274630-8498-4bf5-a470-dd4ac695c680",
   "metadata": {},
   "outputs": [
    {
     "name": "stdout",
     "output_type": "stream",
     "text": [
      "Resized Dimensions :  (120, 120)\n"
     ]
    },
    {
     "ename": "error",
     "evalue": "OpenCV(4.9.0) /Users/xperience/GHA-OpenCV-Python2/_work/opencv-python/opencv-python/opencv/modules/objdetect/src/hog.cpp:90: error: (-215:Assertion failed) !blockStride.empty() in function 'getDescriptorSize'\n",
     "output_type": "error",
     "traceback": [
      "\u001b[0;31m---------------------------------------------------------------------------\u001b[0m",
      "\u001b[0;31merror\u001b[0m                                     Traceback (most recent call last)",
      "Cell \u001b[0;32mIn[3], line 49\u001b[0m\n\u001b[1;32m     45\u001b[0m         hog_features\u001b[38;5;241m.\u001b[39mappend(hist)\n\u001b[1;32m     47\u001b[0m     \u001b[38;5;28;01mreturn\u001b[39;00m array(hog_features)\n\u001b[0;32m---> 49\u001b[0m digits_hog \u001b[38;5;241m=\u001b[39m \u001b[43mhog_descriptors\u001b[49m\u001b[43m(\u001b[49m\u001b[43mresized\u001b[49m\u001b[43m)\u001b[49m\n\u001b[1;32m     50\u001b[0m \u001b[38;5;28mprint\u001b[39m(\u001b[38;5;124m'\u001b[39m\u001b[38;5;124mSize of HOG feature vectors:\u001b[39m\u001b[38;5;124m'\u001b[39m, digits_hog\u001b[38;5;241m.\u001b[39mshape)\n\u001b[1;32m     51\u001b[0m \u001b[38;5;28;01mwith\u001b[39;00m numpy\u001b[38;5;241m.\u001b[39mprintoptions(threshold\u001b[38;5;241m=\u001b[39mnumpy\u001b[38;5;241m.\u001b[39minf):\n",
      "Cell \u001b[0;32mIn[3], line 44\u001b[0m, in \u001b[0;36mhog_descriptors\u001b[0;34m(imgs)\u001b[0m\n\u001b[1;32m     41\u001b[0m \u001b[38;5;66;03m# Compute HOG descriptors for the input images and append the feature vectors to the list\u001b[39;00m\n\u001b[1;32m     42\u001b[0m \u001b[38;5;28;01mfor\u001b[39;00m img \u001b[38;5;129;01min\u001b[39;00m imgs:\n\u001b[1;32m     43\u001b[0m     \u001b[38;5;66;03m#hist = hog.compute(img.reshape(20, 20).astype(uint8))\u001b[39;00m\n\u001b[0;32m---> 44\u001b[0m     hist \u001b[38;5;241m=\u001b[39m \u001b[43mhog\u001b[49m\u001b[38;5;241;43m.\u001b[39;49m\u001b[43mcompute\u001b[49m\u001b[43m(\u001b[49m\u001b[43mimg\u001b[49m\u001b[43m)\u001b[49m\n\u001b[1;32m     45\u001b[0m     hog_features\u001b[38;5;241m.\u001b[39mappend(hist)\n\u001b[1;32m     47\u001b[0m \u001b[38;5;28;01mreturn\u001b[39;00m array(hog_features)\n",
      "\u001b[0;31merror\u001b[0m: OpenCV(4.9.0) /Users/xperience/GHA-OpenCV-Python2/_work/opencv-python/opencv-python/opencv/modules/objdetect/src/hog.cpp:90: error: (-215:Assertion failed) !blockStride.empty() in function 'getDescriptorSize'\n"
     ]
    }
   ],
   "source": [
    "# Load the image\n",
    "img = cv2.imread('baboon.bmp', cv2.IMREAD_GRAYSCALE)\n",
    "\n",
    "# Resize the image\n",
    "width = 120\n",
    "height = 120\n",
    "dim = (width, height)\n",
    "\n",
    "resized = cv2.resize(img, dim, interpolation = cv2.INTER_AREA)\n",
    " \n",
    "print('Resized Dimensions : ',resized.shape)\n",
    " \n",
    "cv2.imshow(\"Resized image\", resized)\n",
    "cv2.waitKey(0)\n",
    "cv2.destroyAllWindows()\n",
    "cv2.waitKey(1)\n",
    "\n",
    "def hog_descriptors(imgs):\n",
    "    # Create a list to store the HOG feature vectors\n",
    "    hog_features = []\n",
    "\n",
    "    # Set parameter values for the HOG descriptor based on the image data in use\n",
    "    winSize = (20, 20)\n",
    "    blockSize = (20, 20)\n",
    "    blockStride = (0, 0)\n",
    "    cellSize = (10, 10)\n",
    "    nbins = 9\n",
    "\n",
    "    # Set the remaining parameters to their default values\n",
    "    derivAperture = 1\n",
    "    winSigma = -1.\n",
    "    histogramNormType = 0\n",
    "    L2HysThreshold = 0.2\n",
    "    gammaCorrection = False\n",
    "    nlevels = 64\n",
    "\n",
    "    # Create a HOG descriptor\n",
    "    hog = HOGDescriptor(winSize, blockSize, blockStride, cellSize, nbins, derivAperture, winSigma,\n",
    "                        histogramNormType, L2HysThreshold, gammaCorrection, nlevels)\n",
    "\n",
    "    # Compute HOG descriptors for the input images and append the feature vectors to the list\n",
    "    for img in imgs:\n",
    "        #hist = hog.compute(img.reshape(20, 20).astype(uint8))\n",
    "        hist = hog.compute(img)\n",
    "        hog_features.append(hist)\n",
    "\n",
    "    return array(hog_features)\n",
    "\n",
    "digits_hog = hog_descriptors(resized)\n",
    "print('Size of HOG feature vectors:', digits_hog.shape)\n",
    "with numpy.printoptions(threshold=numpy.inf):\n",
    "    print(digits_hog)\n",
    "\n"
   ]
  },
  {
   "cell_type": "code",
   "execution_count": null,
   "id": "6a0dfb44-9639-46b0-9d11-43acb2a78ef1",
   "metadata": {},
   "outputs": [],
   "source": []
  }
 ],
 "metadata": {
  "kernelspec": {
   "display_name": "Python 3 (ipykernel)",
   "language": "python",
   "name": "python3"
  },
  "language_info": {
   "codemirror_mode": {
    "name": "ipython",
    "version": 3
   },
   "file_extension": ".py",
   "mimetype": "text/x-python",
   "name": "python",
   "nbconvert_exporter": "python",
   "pygments_lexer": "ipython3",
   "version": "3.11.8"
  }
 },
 "nbformat": 4,
 "nbformat_minor": 5
}
